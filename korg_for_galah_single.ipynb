{
 "cells": [
  {
   "cell_type": "markdown",
   "id": "3b338a9f",
   "metadata": {},
   "source": [
    "# Korg for GALAH"
   ]
  },
  {
   "cell_type": "code",
   "execution_count": 84,
   "id": "4959340f",
   "metadata": {},
   "outputs": [],
   "source": [
    "try:\n",
    "    %matplotlib inline\n",
    "    %config InlineBackend.figure_format='retina'\n",
    "except:\n",
    "    pass\n",
    "\n",
    "# Korg and Julia\n",
    "from juliacall import Main as jl\n",
    "jl.seval(\"using Korg\")\n",
    "Korg = jl.Korg\n",
    "\n",
    "# general packages\n",
    "import time\n",
    "import numpy as np\n",
    "from astropy.io import fits\n",
    "from astropy.table import Table\n",
    "from scipy.io import readsav\n",
    "\n",
    "# matplotlib\n",
    "import matplotlib.pyplot as plt\n",
    "from matplotlib.colors import LogNorm"
   ]
  },
  {
   "cell_type": "code",
   "execution_count": 167,
   "id": "f92deb8b",
   "metadata": {},
   "outputs": [],
   "source": [
    "# Prepare HERMES information\n",
    "galah_lines = Korg.get_GALAH_DR3_linelist()"
   ]
  },
  {
   "cell_type": "code",
   "execution_count": 166,
   "id": "7d7087d8",
   "metadata": {},
   "outputs": [],
   "source": [
    "def get_spectrum(sobject_id):\n",
    "    \n",
    "    spectrum = dict()\n",
    "    spectrum['sobject_id'] = sobject_id\n",
    "    \n",
    "    for ccd in [1,2,3,4]:\n",
    "        \n",
    "        fits_file = fits.open('/Users/buder/GALAH_DR4/observations/'+str(sobject_id)[:6]+'/spectra/com/'+str(sobject_id)+str(ccd)+'.fits')\n",
    "        spectrum['wave_air_ccd'+str(ccd)] = fits_file[0].header['CRVAL1'] + fits_file[0].header['CDELT1'] * np.arange(fits_file[0].header['NAXIS1'])\n",
    "        spectrum['counts_ccd'+str(ccd)] = fits_file[0].data\n",
    "        spectrum['counts_unc_ccd'+str(ccd)] = fits_file[0].data * fits_file[2].data\n",
    "        spectrum['flux_norm_ccd'+str(ccd)] = fits_file[1].data\n",
    "        spectrum['flux_unc_norm_ccd'+str(ccd)] = fits_file[1].data * fits_file[2].data\n",
    "        fits_file.close()\n",
    "        \n",
    "    return(spectrum)\n",
    "\n",
    "spectrum = get_spectrum(sobject_id = 210115002201239)"
   ]
  },
  {
   "cell_type": "code",
   "execution_count": 18,
   "id": "748b3c3e",
   "metadata": {},
   "outputs": [
    {
     "name": "stderr",
     "output_type": "stream",
     "text": [
      "\r",
      "Progress:   0%|▏                                        |  ETA: 0:00:42\u001b[K\r",
      "Progress:   6%|██▋                                      |  ETA: 0:00:26\u001b[K\r",
      "Progress:   7%|██▉                                      |  ETA: 0:00:26\u001b[K\r",
      "Progress:   7%|███                                      |  ETA: 0:00:25\u001b[K\r",
      "Progress:   8%|███▏                                     |  ETA: 0:00:25\u001b[K\r",
      "Progress:   8%|███▍                                     |  ETA: 0:00:25\u001b[K\r",
      "Progress:   9%|███▌                                     |  ETA: 0:00:24\u001b[K\r",
      "Progress:   9%|███▊                                     |  ETA: 0:00:24\u001b[K\r",
      "Progress:   9%|███▉                                     |  ETA: 0:00:24\u001b[K\r",
      "Progress:  10%|████▏                                    |  ETA: 0:00:24\u001b[K\r",
      "Progress:  10%|████▎                                    |  ETA: 0:00:23\u001b[K\r",
      "Progress:  11%|████▍                                    |  ETA: 0:00:23\u001b[K\r",
      "Progress:  11%|████▋                                    |  ETA: 0:00:23\u001b[K\r",
      "Progress:  12%|████▊                                    |  ETA: 0:00:23\u001b[K\r",
      "Progress:  12%|█████                                    |  ETA: 0:00:23\u001b[K\r",
      "Progress:  13%|█████▏                                   |  ETA: 0:00:22\u001b[K\r",
      "Progress:  13%|█████▍                                   |  ETA: 0:00:22\u001b[K\r",
      "Progress:  13%|█████▌                                   |  ETA: 0:00:22\u001b[K\r",
      "Progress:  14%|█████▋                                   |  ETA: 0:00:22\u001b[K\r",
      "Progress:  14%|█████▉                                   |  ETA: 0:00:22\u001b[K\r",
      "Progress:  15%|██████                                   |  ETA: 0:00:22\u001b[K\r",
      "Progress:  15%|██████▎                                  |  ETA: 0:00:21\u001b[K\r",
      "Progress:  16%|██████▍                                  |  ETA: 0:00:21\u001b[K\r",
      "Progress:  16%|██████▌                                  |  ETA: 0:00:21\u001b[K\r",
      "Progress:  16%|██████▊                                  |  ETA: 0:00:21\u001b[K\r",
      "Progress:  17%|██████▉                                  |  ETA: 0:00:21\u001b[K\r",
      "Progress:  17%|███████▏                                 |  ETA: 0:00:21\u001b[K\r",
      "Progress:  18%|███████▎                                 |  ETA: 0:00:21\u001b[K\r",
      "Progress:  18%|███████▍                                 |  ETA: 0:00:20\u001b[K\r",
      "Progress:  19%|███████▋                                 |  ETA: 0:00:20\u001b[K\r",
      "Progress:  19%|███████▊                                 |  ETA: 0:00:20\u001b[K\r",
      "Progress:  19%|████████                                 |  ETA: 0:00:20\u001b[K\r",
      "Progress:  20%|████████▏                                |  ETA: 0:00:20\u001b[K\r",
      "Progress:  20%|████████▎                                |  ETA: 0:00:20\u001b[K\r",
      "Progress:  21%|████████▌              "
     ]
    }
   ],
   "source": [
    "wavelengths_synthetic = dict()\n",
    "LSF_matrix = dict()\n",
    "\n",
    "synthetic_ranges = jl.seval('[4713:0.01:4903, 5648:0.01:5873, 6478:0.01:6737, 7585:0.01:7887]')\n",
    "observed_ranges = np.concatenate(([[Korg.air_to_vacuum(λ) for λ in spectrum['wave_air_ccd'+str(ccd)]] for ccd in [1,2,3,4]]))\n",
    "\n",
    "LSF_matrix_all = Korg.compute_LSF_matrix(\n",
    "    synthetic_ranges,\n",
    "    observed_ranges,\n",
    "    28_000)"
   ]
  },
  {
   "cell_type": "code",
   "execution_count": 155,
   "id": "65fbd41d",
   "metadata": {},
   "outputs": [],
   "source": [
    "def compute_spectrum(\n",
    "    teff,\n",
    "    logg,\n",
    "    fe_h,\n",
    "    c_fe,\n",
    "    n_fe,\n",
    "    observed_ranges\n",
    "):\n",
    "    # Create the A(X) dictionary for synthesising lines with Korg\n",
    "    alpha_fe = -0.4 * fe_h\n",
    "    if alpha_fe > 0.4: alpha_fe = 0.4\n",
    "    if alpha_fe < 0.0: alpha_fe = 0.0\n",
    "    alpha_h = alpha_fe + fe_h\n",
    "    c_h = c_fe + fe_h\n",
    "    n_h = n_fe + fe_h\n",
    "    a_x_dictionary = Korg.format_A_X(fe_h, alpha_h,{\"C\": c_h, \"N\": n_h})\n",
    "    \n",
    "    params = {'teff':teff, 'logg':logg, 'fe_h':fe_h, 'vsini':5.0, 'epsilon':0.6}\n",
    "    \n",
    "    # Interpolate the atmosphere\n",
    "    atmosphere = Korg.interpolate_marcs(teff, logg, a_x_dictionary)\n",
    "    \n",
    "    # Synthesise the Korg spectrum\n",
    "    synthesis = Korg.synthesize(atmosphere, lines, a_x_dictionary, synthetic_ranges)\n",
    "    \n",
    "    F = np.array(synthesis.flux)/np.array(synthesis.cntm)\n",
    "    F = Korg.apply_rotation(F, synthetic_ranges, params[\"vsini\"], params[\"epsilon\"])\n",
    "    F = LSF_matrix_all * F\n",
    "    \n",
    "    return(synthesis, np.array(F))"
   ]
  },
  {
   "cell_type": "code",
   "execution_count": null,
   "id": "14b5ddf8",
   "metadata": {},
   "outputs": [],
   "source": [
    "t = time.process_time()\n",
    "synthesis1, s1 = compute_spectrum(\n",
    "    5772, # teff\n",
    "    4.44, # logg\n",
    "    0.00, # fe_h\n",
    "    0.00, # c_fe\n",
    "    0.00, # n_fe\n",
    "    observed_ranges\n",
    ")\n",
    "print(time.process_time() - t)"
   ]
  },
  {
   "cell_type": "code",
   "execution_count": null,
   "id": "4cab83b1",
   "metadata": {},
   "outputs": [],
   "source": [
    "fit_result = Korg.Fit.fit_spectrum(\n",
    "    # wavelength in vacuum\n",
    "    np.concatenate(([[Korg.air_to_vacuum(λ) for λ in spectrum['wave_air_ccd'+str(ccd)]] for ccd in [1,2,3,4]])),\n",
    "    # normalised flux\n",
    "    np.concatenate(([[f in spectrum['flux_norm_ccd'+str(ccd)]] for ccd in [1,2,3,4]])),\n",
    "    # normalised flux uncertainty\n",
    "    np.concatenate(([[f in spectrum['flux_unc_norm_ccd'+str(ccd)]] for ccd in [1,2,3,4]])),\n",
    "    galah_lines,\n",
    "    initial_guess = (;Teff=5400, logg=3.8, m_H=-1.1, vmic=1.0);\n",
    "    windows=winds,\n",
    "    R=28_000\n",
    ")"
   ]
  }
 ],
 "metadata": {
  "kernelspec": {
   "display_name": "Python 3 (ipykernel)",
   "language": "python",
   "name": "python3"
  },
  "language_info": {
   "codemirror_mode": {
    "name": "ipython",
    "version": 3
   },
   "file_extension": ".py",
   "mimetype": "text/x-python",
   "name": "python",
   "nbconvert_exporter": "python",
   "pygments_lexer": "ipython3",
   "version": "3.9.12"
  }
 },
 "nbformat": 4,
 "nbformat_minor": 5
}
