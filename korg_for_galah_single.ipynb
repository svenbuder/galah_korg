{
 "cells": [
  {
   "cell_type": "markdown",
   "id": "3b338a9f",
   "metadata": {},
   "source": [
    "# Korg for GALAH"
   ]
  },
  {
   "cell_type": "code",
   "execution_count": 1,
   "id": "4959340f",
   "metadata": {},
   "outputs": [],
   "source": [
    "try:\n",
    "    %matplotlib inline\n",
    "    %config InlineBackend.figure_format='retina'\n",
    "except:\n",
    "    pass\n",
    "\n",
    "# Korg and Julia\n",
    "from juliacall import Main as jl\n",
    "jl.seval(\"using Korg\")\n",
    "Korg = jl.Korg\n",
    "\n",
    "# general packages\n",
    "import time\n",
    "import numpy as np\n",
    "from astropy.io import fits\n",
    "from astropy.table import Table\n",
    "from scipy.io import readsav\n",
    "\n",
    "# matplotlib\n",
    "import matplotlib.pyplot as plt\n",
    "from matplotlib.colors import LogNorm"
   ]
  },
  {
   "cell_type": "code",
   "execution_count": 2,
   "id": "f92deb8b",
   "metadata": {},
   "outputs": [],
   "source": [
    "# Prepare HERMES information\n",
    "galah_lines = Korg.get_GALAH_DR3_linelist()"
   ]
  },
  {
   "cell_type": "code",
   "execution_count": 3,
   "id": "288fb37e",
   "metadata": {},
   "outputs": [],
   "source": [
    "def rv_shift(rv_value, wavelength):\n",
    "    return(wavelength / (1.+rv_value/299792.458))"
   ]
  },
  {
   "cell_type": "code",
   "execution_count": 4,
   "id": "7d7087d8",
   "metadata": {},
   "outputs": [],
   "source": [
    "def get_spectrum(sobject_id):\n",
    "    \n",
    "    spectrum = dict()\n",
    "    spectrum['sobject_id'] = sobject_id\n",
    "    \n",
    "    for ccd in [1,2,3,4]:\n",
    "        \n",
    "        fits_file = fits.open('observations/'+str(sobject_id)[:6]+'/spectra/com/'+str(sobject_id)+str(ccd)+'.fits')\n",
    "        spectrum['wave_air_ccd'+str(ccd)] = rv_shift(fits_file[0].header['RVCOM'], fits_file[0].header['CRVAL1'] + fits_file[0].header['CDELT1'] * np.arange(fits_file[0].header['NAXIS1']))\n",
    "        spectrum['counts_ccd'+str(ccd)] = fits_file[0].data\n",
    "        spectrum['counts_unc_ccd'+str(ccd)] = fits_file[0].data * fits_file[2].data\n",
    "        spectrum['flux_norm_ccd'+str(ccd)] = fits_file[1].data\n",
    "        spectrum['flux_unc_norm_ccd'+str(ccd)] = fits_file[1].data * fits_file[2].data\n",
    "        \n",
    "        fits_file.close()\n",
    "        \n",
    "    return(spectrum)\n",
    "\n",
    "spectrum = get_spectrum(sobject_id = 210115002201239)"
   ]
  },
  {
   "cell_type": "markdown",
   "id": "5ad54843",
   "metadata": {},
   "source": [
    "# ELEMENT ABUNDANCES"
   ]
  },
  {
   "cell_type": "code",
   "execution_count": 5,
   "id": "06369b91",
   "metadata": {},
   "outputs": [],
   "source": [
    "stellar_parameters = dict(Teff = 5772, logg = 4.44, m_H = 0.00, vsini = 4.0, vmic=1.06)"
   ]
  },
  {
   "cell_type": "code",
   "execution_count": 6,
   "id": "d7d79ba2",
   "metadata": {},
   "outputs": [],
   "source": [
    "spectrum_waveobs = np.concatenate(([[Korg.air_to_vacuum(λ) for λ in spectrum['wave_air_ccd'+str(ccd)]] for ccd in [1,2,3,4]]))\n",
    "spectrum_flux = np.concatenate(([[f for f in spectrum['flux_norm_ccd'+str(ccd)]] for ccd in [1,2,3,4]]))\n",
    "spectrum_err = np.concatenate(([[f for f in spectrum['flux_unc_norm_ccd'+str(ccd)]] for ccd in [1,2,3,4]]))"
   ]
  },
  {
   "cell_type": "code",
   "execution_count": 7,
   "id": "3936f680",
   "metadata": {},
   "outputs": [],
   "source": [
    "spectrum_s = Table()\n",
    "\n",
    "o_window = (spectrum_waveobs > 7770) & (spectrum_waveobs < 7780)\n",
    "\n",
    "spectrum_s['waveobs'] = spectrum_waveobs[o_window]\n",
    "spectrum_s['flux'] = spectrum_flux[o_window]\n",
    "spectrum_s['err'] = spectrum_err[o_window]\n",
    "spectrum_s.write('Vesta_GALAH.csv',overwrite=True)"
   ]
  },
  {
   "cell_type": "code",
   "execution_count": 8,
   "id": "b3b0d924",
   "metadata": {},
   "outputs": [],
   "source": [
    "synthesis_wls = jl.seval('7750:0.01:7800')\n",
    "\n",
    "LSF_matrix = Korg.compute_LSF_matrix(\n",
    "    synthesis_wls,\n",
    "    spectrum_s['waveobs'],\n",
    "    28_000)"
   ]
  },
  {
   "cell_type": "code",
   "execution_count": 11,
   "id": "560e8a51",
   "metadata": {},
   "outputs": [],
   "source": [
    "windows = dict()\n",
    "\n",
    "# Oxygen\n",
    "windows[8] = [(Korg.air_to_vacuum(7771.359),Korg.air_to_vacuum(7772.509)),(Korg.air_to_vacuum(7773.522),Korg.air_to_vacuum(7774.782)),(Korg.air_to_vacuum(7774.912),Korg.air_to_vacuum(7775.962))]\n",
    "\n",
    "# # Na\n",
    "# windows[11] = [(Korg.air_to_vacuum(4751.689),Korg.air_to_vacuum(4751.944)),(Korg.air_to_vacuum(5682.517),Korg.air_to_vacuum(5682.997)),(Korg.air_to_vacuum(5687.917),Korg.air_to_vacuum(5688.392))]"
   ]
  },
  {
   "cell_type": "code",
   "execution_count": null,
   "id": "5552681d",
   "metadata": {},
   "outputs": [],
   "source": [
    "element = \"O\"\n",
    "\n",
    "params = dict(O = 0.0)\n",
    "\n",
    "fit_result = Korg.Fit.fit_spectrum(\n",
    "    spectrum_s['waveobs'],\n",
    "    spectrum_s['flux'],\n",
    "    spectrum_s['err'],\n",
    "    galah_lines, \n",
    "    params,\n",
    "    stellar_parameters,\n",
    "    windows=windows[Korg.atomic_numbers[element]],\n",
    "    synthesis_wls=synthesis_wls, LSF_matrix=LSF_matrix\n",
    ")"
   ]
  },
  {
   "cell_type": "code",
   "execution_count": null,
   "id": "f5032e33",
   "metadata": {},
   "outputs": [],
   "source": [
    "plt.plot(\n",
    "    spectrum_s['waveobs'],\n",
    "    spectrum_s['flux']\n",
    ")\n",
    "plt.plot(\n",
    "    spectrum_s['waveobs'][fit_result.obs_wl_mask],\n",
    "    fit_result.best_fit_flux\n",
    ")"
   ]
  },
  {
   "cell_type": "code",
   "execution_count": null,
   "id": "87a7aa09",
   "metadata": {},
   "outputs": [],
   "source": []
  }
 ],
 "metadata": {
  "kernelspec": {
   "display_name": "Python 3 (ipykernel)",
   "language": "python",
   "name": "python3"
  },
  "language_info": {
   "codemirror_mode": {
    "name": "ipython",
    "version": 3
   },
   "file_extension": ".py",
   "mimetype": "text/x-python",
   "name": "python",
   "nbconvert_exporter": "python",
   "pygments_lexer": "ipython3",
   "version": "3.9.12"
  }
 },
 "nbformat": 4,
 "nbformat_minor": 5
}
